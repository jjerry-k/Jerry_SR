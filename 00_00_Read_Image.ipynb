{
 "cells": [
  {
   "cell_type": "code",
   "execution_count": 1,
   "metadata": {},
   "outputs": [],
   "source": [
    "import os, cv2\n",
    "import numpy as np\n",
    "from matplotlib import pyplot as plt\n",
    "from ipywidgets import interact"
   ]
  },
  {
   "cell_type": "code",
   "execution_count": 6,
   "metadata": {},
   "outputs": [],
   "source": [
    "def img_read(path, size):\n",
    "    img = cv2.imread(path)\n",
    "    img = cv2.cvtColor(img, cv2.COLOR_BGR2RGB)\n",
    "    h, w, _ = img.shape\n",
    "    c_h, c_w = h//2, w//2\n",
    "    \n",
    "    # Cropping\n",
    "    if h>w :\n",
    "        h_w = w//2\n",
    "        img = img[c_h-h_w:c_h+h_w]\n",
    "    elif h<w: \n",
    "        h_h = h//2\n",
    "        img = img[:, c_w-h_h:c_w+h_h,:]\n",
    "    \n",
    "    img = cv2.resize(img, (size,size))\n",
    "\n",
    "    return img"
   ]
  },
  {
   "cell_type": "code",
   "execution_count": 7,
   "metadata": {},
   "outputs": [],
   "source": [
    "root = './data/sample/'\n",
    "\n",
    "img_list = [os.path.join(root, i) for i in sorted(os.listdir(root)) if i[-3:].lower() in ['jpg', 'png', 'jpeg', 'bmp']]"
   ]
  },
  {
   "cell_type": "code",
   "execution_count": 8,
   "metadata": {},
   "outputs": [],
   "source": [
    "def plot_in_img_list(imglist, size=224):\n",
    "    max_idx_imglist = len(imglist)-1\n",
    "    def sub_plot(idx=0):\n",
    "        img = img_read(img_list[idx], 224)\n",
    "        plt.imshow(img)\n",
    "    interact(sub_plot, idx=(0, max_idx_imglist, 1))"
   ]
  },
  {
   "cell_type": "code",
   "execution_count": 9,
   "metadata": {},
   "outputs": [
    {
     "data": {
      "application/vnd.jupyter.widget-view+json": {
       "model_id": "e69d9f2fc5524b22af2086a0354d2c69",
       "version_major": 2,
       "version_minor": 0
      },
      "text/plain": [
       "interactive(children=(IntSlider(value=0, description='idx', max=14), Output()), _dom_classes=('widget-interact…"
      ]
     },
     "metadata": {},
     "output_type": "display_data"
    }
   ],
   "source": [
    "plot_in_img_list(img_list)"
   ]
  }
 ],
 "metadata": {
  "kernelspec": {
   "display_name": "Python 3",
   "language": "python",
   "name": "python3"
  },
  "language_info": {
   "codemirror_mode": {
    "name": "ipython",
    "version": 3
   },
   "file_extension": ".py",
   "mimetype": "text/x-python",
   "name": "python",
   "nbconvert_exporter": "python",
   "pygments_lexer": "ipython3",
   "version": "3.6.8"
  }
 },
 "nbformat": 4,
 "nbformat_minor": 2
}
