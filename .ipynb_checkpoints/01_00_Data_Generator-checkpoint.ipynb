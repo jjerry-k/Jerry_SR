{
 "cells": [
  {
   "cell_type": "code",
   "execution_count": 1,
   "metadata": {},
   "outputs": [],
   "source": [
    "import os, cv2\n",
    "import numpy as np\n",
    "from matplotlib import pyplot as plt\n",
    "\n",
    "from utils import *"
   ]
  },
  {
   "cell_type": "code",
   "execution_count": 2,
   "metadata": {},
   "outputs": [],
   "source": [
    "class DataLoader():\n",
    "    def __init__(self, path, batch_size=16, num_val=100):\n",
    "        self.path = path\n",
    "        self.batch_size = batch_size\n",
    "        self.img_list = [os.path.join(self.path, i) for i in sorted(os.listdir(self.path)) \n",
    "                         if i[-3:].lower() in ['jpg', 'png', 'jpeg', 'bmp']] \n",
    "        self.train_list = self.img_list[:-100].copy()\n",
    "        self.val_list = self.img_list[:-100].copy()\n",
    "        \n",
    "    def train_generator(self, shuffle=True):\n",
    "        while 1:\n",
    "            if shuffle : \n",
    "                np.random.shuffle(self.train_list)\n",
    "            for i in range(0, len(self.train_list), self.batch_size):\n",
    "                if i==len(self.train_list)//self.batch_size*self.batch_size:\n",
    "                    tmp_train_list = self.train_list[i:]\n",
    "                else : tmp_train_list = self.train_list[i:i+self.batch_size]\n",
    "                \n",
    "                y_data = [img_read(img, 256) for img in tmp_train_list]\n",
    "                x_data = [cv2.resize(img, None, fx=0.5, fy=0.5) for img in y_data]\n",
    "                \n",
    "                yield np.array(x_data), np.array(y_data), tmp_train_list\n",
    "    def validation_generator(self, shuffle=True):\n",
    "        while 1:\n",
    "            if shuffle : \n",
    "                np.random.shuffle(self.val_list)\n",
    "            for i in range(0, len(self.val_list), self.batch_size):\n",
    "                if i==len(self.val_list)//self.batch_size*self.batch_size:\n",
    "                    tmp_train_list = self.val_list[i:]\n",
    "                else : tmp_train_list = self.val_list[i:i+self.batch_size]\n",
    "                \n",
    "                y_data = [img_read(img, 256) for img in tmp_train_list]\n",
    "                x_data = [cv2.resize(img, None, fx=0.5, fy=0.5) for img in y_data]\n",
    "                \n",
    "                yield np.array(x_data), np.array(y_data)"
   ]
  },
  {
   "cell_type": "code",
   "execution_count": 3,
   "metadata": {},
   "outputs": [],
   "source": [
    "data_loader = DataLoader('./data/val2017/', 16, 200)"
   ]
  },
  {
   "cell_type": "code",
   "execution_count": 4,
   "metadata": {},
   "outputs": [],
   "source": [
    "train_gen = data_loader.train_generator()"
   ]
  },
  {
   "cell_type": "code",
   "execution_count": 26,
   "metadata": {},
   "outputs": [
    {
     "name": "stdout",
     "output_type": "stream",
     "text": [
      "(16, 128, 128, 3)\n",
      "(16, 256, 256, 3)\n"
     ]
    }
   ],
   "source": [
    "img, lab, img_list = next(train_gen)\n",
    "print(img.shape)\n",
    "print(lab.shape)"
   ]
  }
 ],
 "metadata": {
  "kernelspec": {
   "display_name": "Python 3",
   "language": "python",
   "name": "python3"
  },
  "language_info": {
   "codemirror_mode": {
    "name": "ipython",
    "version": 3
   },
   "file_extension": ".py",
   "mimetype": "text/x-python",
   "name": "python",
   "nbconvert_exporter": "python",
   "pygments_lexer": "ipython3",
   "version": "3.6.8"
  }
 },
 "nbformat": 4,
 "nbformat_minor": 2
}
